{
 "cells": [
  {
   "cell_type": "markdown",
   "id": "b1008dde-34c6-4767-af86-728254e10670",
   "metadata": {},
   "source": [
    "# Import Config\n"
   ]
  },
  {
   "cell_type": "code",
   "execution_count": 6,
   "id": "97276547-58bd-4955-a9b9-a178b8f30c8c",
   "metadata": {},
   "outputs": [],
   "source": [
    "# Load the YAML file\n",
    "# Import config\n",
    "import sys \n",
    "sys.path.append(\"C:/Users/isxzl/OneDrive/Code/VICReg-BarlowTwins-Ablation-Study/autoSSL\")\n",
    "sys.path.append(\"C:/Users/isxzl/OneDrive/Code/VICReg-BarlowTwins-Ablation-Study/\")\n",
    "\n",
    "import yaml\n",
    "from torchvision.transforms import RandomRotation,GaussianBlur,ColorJitter\n",
    "from autoSSL.evaluate import eval_KNN,eval_linear,eval_KNNplot,pipe_collate\n",
    "from autoSSL.models import BarlowTwins, BYOL, MoCo, SimCLR, SimSiam, VICReg ,pipe_model \n",
    "from autoSSL.utils import embedding_feature,ck_callback,dict2transformer,join_dir,ContinuousCSVLogger  \n",
    "from autoSSL.data import PipeDataset\n",
    "from autoSSL.train import Trainer\n",
    "import pytorch_lightning as pl\n",
    "\n",
    "with open('../experiment/global.yaml', 'r') as file:\n",
    "    config = yaml.safe_load(file)\n",
    "\n",
    "\n",
    "# Define global view function\n",
    "SSL_augmentation = {\n",
    "    'RandomResizedCrop': {'size': (config[\"input_size\"], config[\"input_size\"])},\n",
    "    'RandomApply':{'transforms':[RandomRotation(degrees=90)], 'p':0.8},\n",
    "    'RandomHorizontalFlip': {'p': 0.5},\n",
    "    'RandomVerticalFlip':  {'p':0.5},\n",
    "    'RandomApply':{'transforms': [ColorJitter(brightness=0.04,contrast=0.04,saturation=0.02,hue=0.01)], 'p':0.8},\n",
    "    'RandomGrayscale' :{'p':0.2},\n",
    "    'RandomSolarize':{'threshold':128, 'p':0.1},\n",
    "    'RandomApply':{'transforms':[GaussianBlur(kernel_size=3,sigma=(0.2, 2))],'p':0.8},\n",
    "    'ToTensor': {},\n",
    "    'Normalize': {\"mean\": [0.485, 0.456, 0.406], \"std\": [0.229, 0.224, 0.225]}\n",
    "}\n",
    "\n"
   ]
  },
  {
   "cell_type": "markdown",
   "id": "302fa0b2-fd24-426d-a58a-f4021bd69ce2",
   "metadata": {
    "tags": []
   },
   "source": [
    "# Import the dataset"
   ]
  },
  {
   "cell_type": "code",
   "execution_count": 10,
   "id": "239995d6-b5d4-4083-b016-bd62ccad6508",
   "metadata": {},
   "outputs": [],
   "source": [
    "# THIS IS THE CODE TO LOAD DATASET\n",
    "\n",
    "pdata= PipeDataset(input_dir=config[\"dataset_dir\"], \n",
    "      augmentation=dict2transformer(SSL_augmentation,view=config[\"view\"]), \n",
    "      samples=config[\"samples\"], batch_size=config[\"batch_size\"], shuffle=config[\"shuffle\"], \n",
    "      drop_last=config[\"drop_last\"], num_workers=config[\"num_workers\"] \n",
    "    ) \n",
    "        \n",
    "        "
   ]
  },
  {
   "cell_type": "markdown",
   "id": "15d0d3d1-f94b-440d-a1ed-cb3b70239c8f",
   "metadata": {},
   "source": [
    "# Create a Model!!"
   ]
  },
  {
   "cell_type": "code",
   "execution_count": 11,
   "id": "c74f39f0-7fc3-424a-8fcb-c649cfe91268",
   "metadata": {},
   "outputs": [],
   "source": [
    "\n",
    "pmodel=pipe_model(name=config[\"model\"], backbone=config[\"backbone\"],\n",
    "           stop_gradient=config[\"stop_gradient\"], prjhead_dim=config[\"prjhead_dim\"])\n"
   ]
  },
  {
   "cell_type": "markdown",
   "id": "95da455c-708b-44a8-9b98-77861b05464e",
   "metadata": {},
   "source": [
    "# Training the data!"
   ]
  },
  {
   "cell_type": "code",
   "execution_count": 12,
   "id": "e34b2840-9f79-4cc1-a58f-9013afc33b19",
   "metadata": {},
   "outputs": [
    {
     "name": "stderr",
     "output_type": "stream",
     "text": [
      "GPU available: True (cuda), used: True\n",
      "TPU available: False, using: 0 TPU cores\n",
      "IPU available: False, using: 0 IPUs\n",
      "HPU available: False, using: 0 HPUs\n",
      "You are using a CUDA device ('NVIDIA GeForce RTX 4090') that has Tensor Cores. To properly utilize them, you should set `torch.set_float32_matmul_precision('medium' | 'high')` which will trade-off precision for performance. For more details, read https://pytorch.org/docs/stable/generated/torch.set_float32_matmul_precision.html#torch.set_float32_matmul_precision\n",
      "Missing logger folder: C:\\Users\\isxzl\\OneDrive\\Code\\VICReg-BarlowTwins-Ablation-Study\\Tutorial_for_library\\lightning_logs\n",
      "LOCAL_RANK: 0 - CUDA_VISIBLE_DEVICES: [0]\n",
      "\n",
      "  | Name            | Type                      | Params\n",
      "--------------------------------------------------------------\n",
      "0 | backbone        | Sequential                | 11.2 M\n",
      "1 | projection_head | BarlowTwinsProjectionHead | 9.4 M \n",
      "2 | criterion       | VICRegLoss                | 0     \n",
      "--------------------------------------------------------------\n",
      "20.6 M    Trainable params\n",
      "0         Non-trainable params\n",
      "20.6 M    Total params\n",
      "82.496    Total estimated model params size (MB)\n"
     ]
    },
    {
     "name": "stdout",
     "output_type": "stream",
     "text": [
      "Epoch 0:  50%|████████████████████████████████                                | 49/98 [00:23<00:23,  2.10it/s, v_num=0]"
     ]
    },
    {
     "name": "stderr",
     "output_type": "stream",
     "text": [
      "C:\\Users\\isxzl\\anaconda3\\envs\\AutoGPT\\lib\\site-packages\\pytorch_lightning\\trainer\\call.py:54: UserWarning: Detected KeyboardInterrupt, attempting graceful shutdown...\n",
      "  rank_zero_warn(\"Detected KeyboardInterrupt, attempting graceful shutdown...\")\n"
     ]
    }
   ],
   "source": [
    "trainer = pl.Trainer(\n",
    "    max_epochs=config[\"max_epochs\"],accelerator=config[\"device\"], \n",
    "    #callbacks=[ck_callback(config[\"log_dir\"])],\n",
    "    #logger=ContinuousCSVLogger(save_dir=config[\"log_dir\"],name=config[\"name\"])\n",
    ")\n",
    "\n",
    "\n",
    "#for train\n",
    "trainer.fit(model, pdata.dataloader)\n",
    "\n",
    "\n",
    "# FOR LOAD PREVIOUS WEIGHT\n",
    "#trainer.fit(model, pdata.dataloader,ckpt_path=(join_dir(config[\"log_dir\"],\"checkpoints-epoch=02-train_loss=20.89.ckpt\")))  \n",
    "\n"
   ]
  },
  {
   "cell_type": "markdown",
   "id": "50cc520b-5b5c-4c53-a8c0-e3eca0eff68f",
   "metadata": {},
   "source": [
    " # Evaluate"
   ]
  },
  {
   "cell_type": "code",
   "execution_count": 13,
   "id": "41038e2c-479d-4ae6-b284-79633d9c16da",
   "metadata": {},
   "outputs": [
    {
     "name": "stdout",
     "output_type": "stream",
     "text": [
      "Load the training and testing dataset\n"
     ]
    },
    {
     "name": "stderr",
     "output_type": "stream",
     "text": [
      "\n",
      "  0%|                                                                                           | 0/25 [00:00<?, ?it/s]\u001b[A\n",
      "  4%|███▎                                                                               | 1/25 [00:06<02:29,  6.25s/it]\u001b[A\n",
      "100%|██████████████████████████████████████████████████████████████████████████████████| 25/25 [00:06<00:00,  3.74it/s]\u001b[A\n",
      "\n",
      "  0%|                                                                                           | 0/25 [00:00<?, ?it/s]\u001b[A\n",
      "  4%|███▎                                                                               | 1/25 [00:06<02:29,  6.21s/it]\u001b[A\n",
      "100%|██████████████████████████████████████████████████████████████████████████████████| 25/25 [00:06<00:00,  3.79it/s]\u001b[A\n",
      "\n",
      "  0%|                                                                                            | 0/6 [00:00<?, ?it/s]\u001b[A\n",
      "100%|████████████████████████████████████████████████████████████████████████████████████| 6/6 [00:06<00:00,  1.11s/it]\u001b[A\n",
      "\n",
      "  0%|                                                                                            | 0/6 [00:00<?, ?it/s]\u001b[A\n",
      "100%|████████████████████████████████████████████████████████████████████████████████████| 6/6 [00:06<00:00,  1.11s/it]\u001b[A\n",
      "\n",
      "  0%|                                                                                            | 0/1 [00:00<?, ?it/s]\u001b[A\n",
      "100%|████████████████████████████████████████████████████████████████████████████████████| 1/1 [00:00<00:00,  1.94it/s]\u001b[A\n"
     ]
    },
    {
     "data": {
      "text/plain": [
       "[('model_0', 0.09375)]"
      ]
     },
     "execution_count": 13,
     "metadata": {},
     "output_type": "execute_result"
    }
   ],
   "source": [
    "# Define global view function\n",
    "test_augmentation = {\n",
    "    'RandomResizedCrop': {'size': (64, 64)},\n",
    "    'ToTensor': {},\n",
    "    'Normalize': {\"mean\": [0.485, 0.456, 0.406], \"std\": [0.229, 0.224, 0.225]}\n",
    "}\n",
    "\n",
    "pipe_data_test =PipeDataset(\n",
    "    input_dir=\"../../Datasets/cifar10/test/\", \n",
    "    samples=1000, \n",
    "    augmentation=dict2transformer(test_augmentation), \n",
    "    batch_size=32,\n",
    "    shuffle=True,\n",
    "    #collate_fn=collate_fn,\n",
    "    drop_last=True,\n",
    "    num_workers=4,\n",
    "\n",
    ") \n",
    "\n",
    "eval_linear(pipe_data_test,models=model,split=0.8,device=\"cuda\") \n",
    "#eval_linear(pipe_data_test,models=model,test=pipe_data_test,device=\"cuda\") \n",
    "        \n"
   ]
  },
  {
   "cell_type": "code",
   "execution_count": null,
   "id": "6f1a5557-a453-4541-b075-30ee19d65bb8",
   "metadata": {},
   "outputs": [],
   "source": []
  }
 ],
 "metadata": {
  "kernelspec": {
   "display_name": "Python 3 (ipykernel)",
   "language": "python",
   "name": "python3"
  },
  "language_info": {
   "codemirror_mode": {
    "name": "ipython",
    "version": 3
   },
   "file_extension": ".py",
   "mimetype": "text/x-python",
   "name": "python",
   "nbconvert_exporter": "python",
   "pygments_lexer": "ipython3",
   "version": "3.9.16"
  }
 },
 "nbformat": 4,
 "nbformat_minor": 5
}
