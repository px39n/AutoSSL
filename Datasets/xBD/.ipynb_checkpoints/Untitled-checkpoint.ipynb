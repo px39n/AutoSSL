{
 "cells": [
  {
   "cell_type": "code",
   "execution_count": 27,
   "id": "eb999b1f-9a13-4438-bb86-9e13410bc2bd",
   "metadata": {},
   "outputs": [
    {
     "name": "stderr",
     "output_type": "stream",
     "text": [
      "Processing train: 100%|███████████████████████████████████████████████████████████| 5598/5598 [00:08<00:00, 659.85it/s]\n",
      "Processing test: 100%|████████████████████████████████████████████████████████████| 1866/1866 [00:02<00:00, 654.53it/s]\n",
      "Processing hold: 100%|████████████████████████████████████████████████████████████| 1866/1866 [00:02<00:00, 636.36it/s]\n"
     ]
    }
   ],
   "source": [
    "import os\n",
    "import json\n",
    "import shutil\n",
    "from tqdm import tqdm\n",
    "import numpy as np\n",
    "\n",
    "# Set the path to your xDB directory\n",
    "xDB_dir = \"C:/Users/isxzl/OneDrive/Code/AutoSSL/Datasets/xBD\"\n",
    "\n",
    "# Define the damage level mapping\n",
    "damage_level = {\"no-damage\": 1, \"minor-damage\": 2, \"major-damage\": 3, \"destroyed\": 4}\n",
    "\n",
    "# Corresponding subfolder names\n",
    "damage_subfolders = {0: \"no_building\", 1: \"no-damage\", 2: \"minor-damage\", 3: \"major-damage\", 4: \"destroyed\"}\n",
    " \n",
    " \n",
    "# Go through train, test, hold directories\n",
    "for dataset in ['train', 'test', 'hold']:\n",
    "    dataset_dir = os.path.join(xDB_dir, dataset)\n",
    "    images_dir = os.path.join(dataset_dir, 'images')\n",
    "    labels_dir = os.path.join(dataset_dir, 'labels')\n",
    "    \n",
    "    # Create subfolders for each damage level\n",
    "    for subfolder in damage_subfolders.values():\n",
    "        os.makedirs(os.path.join(dataset_dir, subfolder), exist_ok=True)\n",
    "\n",
    "    # Go through each json file in the labels directory\n",
    "    for file in tqdm(os.listdir(labels_dir), desc=f\"Processing {dataset}\"):\n",
    "        if file.endswith(\"_post_disaster.json\"):\n",
    "            with open(os.path.join(labels_dir, file)) as f:\n",
    "                data = json.load(f)\n",
    "\n",
    "            # Get damage counts\n",
    "            damages = [feature['properties']['subtype'] for feature in data['features']['lng_lat'] if feature['properties']['subtype'] in damage_level]\n",
    "            damage_counts = {damage: damages.count(damage) for damage in set(damages)}\n",
    "\n",
    "            # Calculate average damage level\n",
    "            if damage_counts:\n",
    "                total_count = sum(damage_counts.values())\n",
    "                weighted_values = [damage_level[damage] * count / total_count for damage, count in damage_counts.items()]\n",
    "                avg_damage_level = np.round(sum(weighted_values)).astype(int)\n",
    "            else:\n",
    "                avg_damage_level = 0  # no_building\n",
    "            \n",
    "            # Get corresponding image file\n",
    "            image_file_name = data['metadata']['img_name']\n",
    "            image_file_path = os.path.join(images_dir, image_file_name)\n",
    "\n",
    "            # Determine the target subfolder\n",
    "            target_subfolder = damage_subfolders[avg_damage_level]\n",
    "\n",
    "            # Copy image to the target subfolder\n",
    "            target_dir = os.path.join(dataset_dir, target_subfolder)\n",
    "            shutil.copy2(image_file_path, target_dir)\n",
    "\n"
   ]
  }
 ],
 "metadata": {
  "kernelspec": {
   "display_name": "Python 3 (ipykernel)",
   "language": "python",
   "name": "python3"
  },
  "language_info": {
   "codemirror_mode": {
    "name": "ipython",
    "version": 3
   },
   "file_extension": ".py",
   "mimetype": "text/x-python",
   "name": "python",
   "nbconvert_exporter": "python",
   "pygments_lexer": "ipython3",
   "version": "3.9.16"
  }
 },
 "nbformat": 4,
 "nbformat_minor": 5
}
