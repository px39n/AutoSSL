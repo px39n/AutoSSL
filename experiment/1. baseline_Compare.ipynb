{
 "cells": [
  {
   "cell_type": "markdown",
   "id": "58a60371-02db-4483-8490-7a94089c963f",
   "metadata": {},
   "source": []
  },
  {
   "cell_type": "markdown",
   "id": "a2b7e1f4-6dd3-4123-afef-214fd667edfb",
   "metadata": {},
   "source": [
    "\n",
    "VIC REG\n",
    "\n",
    "Table 1, linear accuracy with different model: (epoch 1000) , over ImageNet, Res50\n",
    "\n",
    "\n",
    "\n",
    "# 1. Compare different model over the save batch\n",
    "\n",
    "over 64, 512, 1024, 2048,  4096, 8192\n",
    "We found out model is highly correlated with batch,\n",
    "\n",
    "\n",
    "BT:\n",
    "\n",
    "\n",
    "\n",
    "\n",
    "\n",
    "\n",
    "\n",
    "\n",
    "\n",
    "\n",
    "\n",
    "\n",
    "\n",
    "\n",
    "\n",
    "\n",
    "\n",
    "\n"
   ]
  }
 ],
 "metadata": {
  "kernelspec": {
   "display_name": "Python 3 (ipykernel)",
   "language": "python",
   "name": "python3"
  },
  "language_info": {
   "codemirror_mode": {
    "name": "ipython",
    "version": 3
   },
   "file_extension": ".py",
   "mimetype": "text/x-python",
   "name": "python",
   "nbconvert_exporter": "python",
   "pygments_lexer": "ipython3",
   "version": "3.9.16"
  }
 },
 "nbformat": 4,
 "nbformat_minor": 5
}
