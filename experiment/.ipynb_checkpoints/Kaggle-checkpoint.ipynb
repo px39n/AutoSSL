{
 "cells": [
  {
   "cell_type": "code",
   "execution_count": null,
   "id": "66e9b34c-87bf-41b5-bfff-a7d28af2ea6f",
   "metadata": {},
   "outputs": [],
   "source": [
    "!pip install lightly --upgrade\n",
    "#安装kaggle\n",
    "!pip install kaggle\n",
    "!pip install opendatasets\n",
    "!kaggle datasets download -d swaroopkml/cifar10-pngs-in-folders"
   ]
  }
 ],
 "metadata": {
  "kernelspec": {
   "display_name": "Python 3 (ipykernel)",
   "language": "python",
   "name": "python3"
  },
  "language_info": {
   "codemirror_mode": {
    "name": "ipython",
    "version": 3
   },
   "file_extension": ".py",
   "mimetype": "text/x-python",
   "name": "python",
   "nbconvert_exporter": "python",
   "pygments_lexer": "ipython3",
   "version": "3.9.16"
  }
 },
 "nbformat": 4,
 "nbformat_minor": 5
}
