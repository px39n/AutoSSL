{
 "cells": [
  {
   "cell_type": "markdown",
   "id": "4533ee81-d579-4867-b15b-aa7f3f8f385f",
   "metadata": {
    "tags": []
   },
   "source": [
    "# Experiment Introduction\n",
    "\n",
    "Background, \n",
    "In order to do ablation experiment, we have diffculty like\n",
    "1. most of them are same, we have to repeat many times.\n",
    "2. too many model, config, code hard to manage and save. too messy\n",
    "\n",
    "\n",
    "For all kind of SSL training workflow, we have to define the hyperparameters includes 4 aspect,\n",
    "Dataset\n",
    "Model\n",
    "Training\n",
    "Saving COnfig\n",
    "\n",
    "\n",
    "\n",
    "How to Use this Experiment?\n",
    "\n"
   ]
  },
  {
   "cell_type": "markdown",
   "id": "1ff5e60f-6c7d-47b6-8b30-5ad2e6c94b09",
   "metadata": {
    "tags": []
   },
   "source": [
    "# Library"
   ]
  },
  {
   "cell_type": "code",
   "execution_count": null,
   "id": "64951e3b-e012-4ed5-8846-03eed103c696",
   "metadata": {},
   "outputs": [],
   "source": []
  },
  {
   "cell_type": "code",
   "execution_count": 2,
   "id": "71222088-d62f-40fc-b935-f9c8ee99a579",
   "metadata": {},
   "outputs": [
    {
     "ename": "SyntaxError",
     "evalue": "invalid syntax (pipe_train.py, line 31)",
     "output_type": "error",
     "traceback": [
      "Traceback \u001b[1;36m(most recent call last)\u001b[0m:\n",
      "\u001b[0m  File \u001b[0;32m~\\anaconda3\\envs\\AutoGPT\\lib\\site-packages\\IPython\\core\\interactiveshell.py:3505\u001b[0m in \u001b[0;35mrun_code\u001b[0m\n    exec(code_obj, self.user_global_ns, self.user_ns)\u001b[0m\n",
      "\u001b[0m  Cell \u001b[0;32mIn[2], line 10\u001b[0m\n    from autoSSL.train import Trainer\u001b[0m\n",
      "\u001b[1;36m  File \u001b[1;32mC:\\Users/isxzl/OneDrive/Code/AutoSSL\\autoSSL\\train\\__init__.py:1\u001b[1;36m\n\u001b[1;33m    from .pipe_train import *\u001b[1;36m\n",
      "\u001b[1;36m  File \u001b[1;32mC:\\Users/isxzl/OneDrive/Code/AutoSSL\\autoSSL\\train\\pipe_train.py:31\u001b[1;36m\u001b[0m\n\u001b[1;33m    else\u001b[0m\n\u001b[1;37m        ^\u001b[0m\n\u001b[1;31mSyntaxError\u001b[0m\u001b[1;31m:\u001b[0m invalid syntax\n"
     ]
    }
   ],
   "source": [
    "# Import config\n",
    "import sys \n",
    "sys.path.append(\"C:/Users/isxzl/OneDrive/Code/AutoSSL\")\n",
    "import yaml\n",
    "from torchvision.transforms import RandomRotation,GaussianBlur,ColorJitter\n",
    "from autoSSL.evaluate import eval_KNN,eval_linear,eval_KNNplot,pipe_collate\n",
    "from autoSSL.models import BarlowTwins, BYOL, MoCo, SimCLR, SimSiam, VICReg ,Toymodel, pipe_model \n",
    "from autoSSL.utils import embedding_feature,ck_callback,dict2transformer,trans2multi,join_dir,ContinuousCSVLogger  \n",
    "from autoSSL.data import PipeDataset\n",
    "from autoSSL.train import Trainer\n",
    "\n",
    "from lightly.transforms import SimCLRTransform\n",
    "from lightly.transforms.rotation import random_rotation_transform\n",
    "import torchvision.transforms as T\n",
    "import pytorch_lightning as pl\n",
    "pl.seed_everything(0)"
   ]
  },
  {
   "cell_type": "markdown",
   "id": "06eba85e-c2d4-4ed3-a276-2b03ff82f764",
   "metadata": {
    "tags": []
   },
   "source": [
    "# Import Global Baseline Config"
   ]
  },
  {
   "cell_type": "code",
   "execution_count": null,
   "id": "16334f28-7fca-42b0-afbc-f19c2b4ee76f",
   "metadata": {},
   "outputs": [],
   "source": []
  },
  {
   "cell_type": "code",
   "execution_count": null,
   "id": "bb0e5479-43a3-4b63-b9e2-b8ce70103290",
   "metadata": {},
   "outputs": [],
   "source": [
    "# Load the YAML file\n",
    "with open('global.yaml', 'r') as file:\n",
    "    global_config = yaml.safe_load(file)\n",
    "\n",
    "# Write your experiment notebook name here\n",
    "global_config[\"experiment\"]=\"views VS model\"   \n",
    "global_config[\"dataset_dir\"]=\"../Datasets/cifar10/train/\"\n",
    "global_config[\"prjhead_dim\"]=[[512,2048, \"BN\",\"RELU\"],[2048,2048,None,None]]    \n",
    "\n",
    "global_config[\"loss_func\"]=\"BarlowTwinsLoss\"     \n",
    "global_config[\"view_model\"]=\"None\"     \n",
    "global_config[\"view\"]=2 \n",
    "global_config[\"stop_gradient\"]=False   \n",
    "global_config[\"optimizer\"]=\"SGD\"      \n",
    "global_config[\"schedule\"]=\"cos\"   \n",
    "global_config[\"model\"]=\"Toymodel\"\n",
    "global_config[\"batch_size\"]=128\n",
    "global_config[\"input_size\"]=32\n",
    "global_config[\"max_epochs\"]=50\n",
    "\n",
    "#global_config[\"backbone\"]=\"resnet18_pretrained\"\n",
    "\n",
    "# Define global Training Augmentation\n",
    "global_SSL_augmentation=T.Compose([\n",
    "    T.RandomResizedCrop(size=global_config[\"input_size\"], scale=(0.08, 1.0)),\n",
    "    T.RandomApply([T.RandomRotation(degrees=90)], p=0),\n",
    "    T.RandomHorizontalFlip(p= 0.5),\n",
    "    T.RandomVerticalFlip(p=0),\n",
    "    T.RandomApply([T.ColorJitter(\n",
    "            brightness=0.4,contrast=0.4,saturation=0.4, hue=0.1)], p=0.8),\n",
    "    T.RandomGrayscale(p=0.2),\n",
    "    T.ToTensor(),\n",
    "    T.Normalize(mean= [0.485, 0.456, 0.406], std=[0.229, 0.224, 0.225]),\n",
    "])\n",
    "\n",
    "\n",
    "# Define the Testing Augmentation\n",
    "test_SSL_augmentation=T.Compose([\n",
    "    T.ToTensor(),\n",
    "    T.Normalize(mean= [0.485, 0.456, 0.406], std=[0.229, 0.224, 0.225]),\n",
    "])\n",
    "\n",
    "p_knndata= PipeDataset(input_dir=global_config[\"path_to_test_cifar10\"], \n",
    "        augmentation=trans2multi(test_SSL_augmentation,view=1), \n",
    "        batch_size=global_config[\"batch_size\"],num_workers=global_config[\"num_workers\"]).dataloader\n",
    "p_knndata=[p_knndata,10]  # The second number is the classes number of this datasets\n"
   ]
  },
  {
   "cell_type": "markdown",
   "id": "db1f8a6e-bfc8-4b5b-98b0-4c3797a6f437",
   "metadata": {
    "jp-MarkdownHeadingCollapsed": true,
    "tags": []
   },
   "source": [
    "## Config 1 Baseline for everything (Negative)"
   ]
  },
  {
   "cell_type": "code",
   "execution_count": null,
   "id": "3dfa842a-b5ad-4667-b051-2d91f4358bc3",
   "metadata": {},
   "outputs": [],
   "source": [
    "pd=[[2048,512, \"BN\",\"RELU\"],[512,2048,None,None]]    \n",
    "st=True\n",
    "\n",
    "\n",
    "for baseline in [[pd,st,True],[[],False,False],[pd,False,True],[[],st,False]]:\n",
    "    # MAKE YOUR OWN CONFIG\n",
    "    config=global_config.copy()\n",
    "    # Fill the config\n",
    "    SSL_augmentation=global_SSL_augmentation\n",
    "    config[\"view\"]=2\n",
    "    config[\"view_model\"]= \"None\"\n",
    "    config[\"name\"]=f\"LNeg_VMNone_PR{baseline[2]}_st{baseline[1]}_b128_m50_v{4}\"\n",
    "    config[\"loss_func\"]=\"NegativeCosineSimilarity\" \n",
    "    config[\"prjhead_dim\"]=[[512,2048, \"BN\",\"RELU\"],[2048,2048,\"BN\",None]]    \n",
    "    config[\"stop_gradient\"]= baseline[1]\n",
    "    config[\"predhead_dim\"]= baseline[0]\n",
    "    config[\"max_epochs\"]= 50\n",
    "    # THIS IS THE CODE TO LOAD DATASET\n",
    "    pdata= PipeDataset(config=config,augmentation=trans2multi(SSL_augmentation,view=config[\"view\"]))\n",
    "    \n",
    "    # THIS IS THE CODE TO LOAD MODEL\n",
    "    #pmodel=pipe_model(config=config) \n",
    "    pmodel=pipe_model(config=config,MonitoringbyKNN=p_knndata) # All save the validation\n",
    "    \n",
    " \n",
    "    # Use this if you want to START a train\n",
    "    trainer=Trainer(config, model_mode=\"start\",check_val_every_n_epoch =5) #precision='16-mixed',\n",
    "    trainer.fit(pmodel, pdata.dataloader,)  \n",
    "    \n",
    "    # Use this if you want to CONTINUE a train\n",
    "    #trainer=Trainer(config, model_mode=\"continue\", extra_epoch=1,precision='16-mixed')\n",
    "    #trainer.fit(pmodel, pdata.dataloader,ckpt_path=\"latest\")  \n",
    "    print(pmodel.debug)\n",
    "    del pdata\n",
    "    del pmodel\n",
    "    del trainer    "
   ]
  },
  {
   "cell_type": "markdown",
   "id": "5a869f3e-3e94-4d05-bec5-6fdd31695b58",
   "metadata": {
    "tags": []
   },
   "source": [
    "## View 4 SOTA View"
   ]
  },
  {
   "cell_type": "code",
   "execution_count": null,
   "id": "dc6193d5-6e9b-449e-8f33-c0f4dd0e07f4",
   "metadata": {},
   "outputs": [],
   "source": []
  },
  {
   "cell_type": "code",
   "execution_count": null,
   "id": "e9dd33db-b0f5-4406-a9d7-42f5d3b0b566",
   "metadata": {},
   "outputs": [],
   "source": [
    "\n",
    "for baseline0 in [\"mean_n\" ,\"fastsim\", \"pair-pair\" , \"1_n\" ,\"1_fastsim\"]:\n",
    "    \n",
    "    \n",
    "    pd=[[2048,512, \"BN\",\"RELU\"],[512,2048,None,None]]    \n",
    "    st=True\n",
    "    pd2=[[2048,512, \"BN\",\"RELU\"],[512,2048,\"BN\",None]]  \n",
    "    for baseline in [[pd,st,\"TruewithBN\"]]: #,[[],False,False],[pd,False,\"TruewithBN\"],[[],st,False]\n",
    "        # MAKE YOUR OWN CONFIG\n",
    "        config=global_config.copy()\n",
    "        # Fill the config\n",
    "        SSL_augmentation=global_SSL_augmentation\n",
    "        config[\"view\"]=4\n",
    "        config[\"view_model\"]= baseline0\n",
    "        config[\"name\"]=f\"LNeg_VM{baseline0}_PR{baseline[2]}_st{baseline[1]}_b128_m50_v{4}\"\n",
    "        config[\"loss_func\"]=\"NegativeCosineSimilarity\" \n",
    "        config[\"prjhead_dim\"]=[[512,2048, \"BN\",\"RELU\"],[2048,2048,\"BN\",None]]    \n",
    "        config[\"stop_gradient\"]= baseline[1]\n",
    "        config[\"predhead_dim\"]= baseline[0]\n",
    "        config[\"max_epochs\"]= 50\n",
    "        # THIS IS THE CODE TO LOAD DATASET\n",
    "        pdata= PipeDataset(config=config,augmentation=trans2multi(SSL_augmentation,view=config[\"view\"]))\n",
    "\n",
    "        # THIS IS THE CODE TO LOAD MODEL\n",
    "        #pmodel=pipe_model(config=config) \n",
    "        pmodel=pipe_model(config=config,MonitoringbyKNN=p_knndata) # All save the validation\n",
    "\n",
    "\n",
    "        # Use this if you want to START a train\n",
    "        trainer=Trainer(config, model_mode=\"start\",check_val_every_n_epoch =5) #precision='16-mixed',\n",
    "        trainer.fit(pmodel, pdata.dataloader,)  \n",
    "\n",
    "        # Use this if you want to CONTINUE a train\n",
    "        #trainer=Trainer(config, model_mode=\"continue\", extra_epoch=1,precision='16-mixed')\n",
    "        #trainer.fit(pmodel, pdata.dataloader,ckpt_path=\"latest\")  \n",
    "        print(pmodel.debug)\n",
    "        del pdata\n",
    "        del pmodel\n",
    "        del trainer    "
   ]
  },
  {
   "cell_type": "code",
   "execution_count": null,
   "id": "aa5c3b5a-d63b-4964-8e48-e06bb4d2be8a",
   "metadata": {},
   "outputs": [
    {
     "name": "stderr",
     "output_type": "stream",
     "text": [
      "GPU available: True (cuda), used: True\n",
      "TPU available: False, using: 0 TPU cores\n",
      "IPU available: False, using: 0 IPUs\n",
      "HPU available: False, using: 0 HPUs\n",
      "You are using a CUDA device ('NVIDIA GeForce RTX 4090') that has Tensor Cores. To properly utilize them, you should set `torch.set_float32_matmul_precision('medium' | 'high')` which will trade-off precision for performance. For more details, read https://pytorch.org/docs/stable/generated/torch.set_float32_matmul_precision.html#torch.set_float32_matmul_precision\n",
      "C:\\Users\\isxzl\\anaconda3\\envs\\AutoGPT\\lib\\site-packages\\pytorch_lightning\\callbacks\\model_checkpoint.py:615: UserWarning: Checkpoint directory C:\\Users\\isxzl\\OneDrive\\Code\\AutoSSL\\experiment\\experiment_checkpoints\\views VS model\\fastsim_BT_b128_m50_v2 exists and is not empty.\n",
      "  rank_zero_warn(f\"Checkpoint directory {dirpath} exists and is not empty.\")\n",
      "LOCAL_RANK: 0 - CUDA_VISIBLE_DEVICES: [0]\n",
      "\n",
      "  | Name            | Type            | Params\n",
      "----------------------------------------------------\n",
      "0 | backbone        | Sequential      | 11.2 M\n",
      "1 | criterion       | BarlowTwinsLoss | 0     \n",
      "2 | projection_head | ProjectionHead  | 5.2 M \n",
      "----------------------------------------------------\n",
      "16.4 M    Trainable params\n",
      "0         Non-trainable params\n",
      "16.4 M    Total params\n",
      "65.702    Total estimated model params size (MB)\n"
     ]
    },
    {
     "name": "stdout",
     "output_type": "stream",
     "text": [
      "Epoch 4: 100%|██████████████████████████████████████████████████████████████| 390/390 [00:52<00:00,  7.41it/s, v_num=5]\n",
      "Validation: 0it [00:00, ?it/s]\u001b[A\n",
      "Validation:   0%|                                                                               | 0/79 [00:00<?, ?it/s]\u001b[A\n",
      "Validation DataLoader 0:   0%|                                                                  | 0/79 [00:00<?, ?it/s]\u001b[A\n",
      "Validation DataLoader 0:   1%|▋                                                         | 1/79 [00:00<00:00, 91.10it/s]\u001b[A\n",
      "Validation DataLoader 0:   3%|█▍                                                       | 2/79 [00:00<00:00, 102.77it/s]\u001b[A\n",
      "Validation DataLoader 0:   4%|██▏                                                       | 3/79 [00:00<00:01, 73.31it/s]\u001b[A\n",
      "Validation DataLoader 0:   5%|██▉                                                       | 4/79 [00:00<00:01, 67.36it/s]\u001b[A\n",
      "Validation DataLoader 0:   6%|███▋                                                      | 5/79 [00:00<00:01, 45.54it/s]\u001b[A\n",
      "Validation DataLoader 0:   8%|████▍                                                     | 6/79 [00:00<00:01, 48.66it/s]\u001b[A\n",
      "Validation DataLoader 0:   9%|█████▏                                                    | 7/79 [00:00<00:01, 51.55it/s]\u001b[A\n",
      "Validation DataLoader 0:  10%|█████▊                                                    | 8/79 [00:00<00:01, 54.69it/s]\u001b[A\n",
      "Validation DataLoader 0:  11%|██████▌                                                   | 9/79 [00:00<00:01, 57.06it/s]\u001b[A\n",
      "Validation DataLoader 0:  13%|███████▏                                                 | 10/79 [00:00<00:01, 53.70it/s]\u001b[A\n",
      "Validation DataLoader 0:  14%|███████▉                                                 | 11/79 [00:00<00:01, 54.41it/s]\u001b[A\n",
      "Validation DataLoader 0:  15%|████████▋                                                | 12/79 [00:00<00:01, 55.91it/s]\u001b[A\n",
      "Validation DataLoader 0:  16%|█████████▍                                               | 13/79 [00:00<00:01, 56.62it/s]\u001b[A\n",
      "Validation DataLoader 0:  18%|██████████                                               | 14/79 [00:00<00:01, 57.95it/s]\u001b[A\n",
      "Validation DataLoader 0:  19%|██████████▊                                              | 15/79 [00:00<00:01, 59.27it/s]\u001b[A\n",
      "Validation DataLoader 0:  20%|███████████▌                                             | 16/79 [00:00<00:01, 60.94it/s]\u001b[A\n",
      "Validation DataLoader 0:  22%|████████████▎                                            | 17/79 [00:00<00:01, 61.81it/s]\u001b[A\n",
      "Validation DataLoader 0:  23%|████████████▉                                            | 18/79 [00:00<00:00, 62.18it/s]\u001b[A\n",
      "Validation DataLoader 0:  24%|█████████████▋                                           | 19/79 [00:00<00:00, 62.40it/s]\u001b[A\n",
      "Validation DataLoader 0:  25%|██████████████▍                                          | 20/79 [00:00<00:00, 63.70it/s]\u001b[A\n",
      "Validation DataLoader 0:  27%|███████████████▏                                         | 21/79 [00:00<00:00, 64.62it/s]\u001b[A\n",
      "Validation DataLoader 0:  28%|███████████████▊                                         | 22/79 [00:00<00:00, 65.78it/s]\u001b[A\n",
      "Validation DataLoader 0:  29%|████████████████▌                                        | 23/79 [00:00<00:00, 64.71it/s]\u001b[A\n",
      "Validation DataLoader 0:  30%|█████████████████▎                                       | 24/79 [00:00<00:00, 65.77it/s]\u001b[A\n",
      "Validation DataLoader 0:  32%|██████████████████                                       | 25/79 [00:00<00:00, 64.68it/s]\u001b[A\n",
      "Validation DataLoader 0:  33%|██████████████████▊                                      | 26/79 [00:00<00:00, 64.28it/s]\u001b[A\n",
      "Validation DataLoader 0:  34%|███████████████████▍                                     | 27/79 [00:00<00:00, 63.68it/s]\u001b[A\n",
      "Validation DataLoader 0:  35%|████████████████████▏                                    | 28/79 [00:00<00:00, 64.30it/s]\u001b[A\n",
      "Validation DataLoader 0:  37%|████████████████████▉                                    | 29/79 [00:00<00:00, 64.45it/s]\u001b[A\n",
      "Validation DataLoader 0:  38%|█████████████████████▋                                   | 30/79 [00:00<00:00, 65.44it/s]\u001b[A\n",
      "Validation DataLoader 0:  39%|██████████████████████▎                                  | 31/79 [00:00<00:00, 61.13it/s]\u001b[A\n",
      "Validation DataLoader 0:  41%|███████████████████████                                  | 32/79 [00:00<00:00, 59.81it/s]\u001b[A\n",
      "Validation DataLoader 0:  42%|███████████████████████▊                                 | 33/79 [00:00<00:00, 60.28it/s]\u001b[A\n",
      "Validation DataLoader 0:  43%|████████████████████████▌                                | 34/79 [00:00<00:00, 59.55it/s]\u001b[A\n",
      "Validation DataLoader 0:  44%|█████████████████████████▎                               | 35/79 [00:00<00:00, 59.08it/s]\u001b[A\n",
      "Validation DataLoader 0:  46%|█████████████████████████▉                               | 36/79 [00:00<00:00, 57.02it/s]\u001b[A\n",
      "Validation DataLoader 0:  47%|██████████████████████████▋                              | 37/79 [00:00<00:00, 56.59it/s]\u001b[A\n",
      "Validation DataLoader 0:  48%|███████████████████████████▍                             | 38/79 [00:00<00:00, 49.15it/s]\u001b[A\n",
      "Validation DataLoader 0:  49%|████████████████████████████▏                            | 39/79 [00:00<00:00, 47.65it/s]\u001b[A\n",
      "Validation DataLoader 0:  51%|████████████████████████████▊                            | 40/79 [00:00<00:00, 47.76it/s]\u001b[A\n",
      "Validation DataLoader 0:  52%|█████████████████████████████▌                           | 41/79 [00:00<00:00, 48.18it/s]\u001b[A\n",
      "Validation DataLoader 0:  53%|██████████████████████████████▎                          | 42/79 [00:00<00:00, 48.78it/s]\u001b[A\n",
      "Validation DataLoader 0:  54%|███████████████████████████████                          | 43/79 [00:00<00:00, 48.59it/s]\u001b[A\n",
      "Validation DataLoader 0:  56%|███████████████████████████████▋                         | 44/79 [00:00<00:00, 48.73it/s]\u001b[A\n",
      "Validation DataLoader 0:  57%|████████████████████████████████▍                        | 45/79 [00:00<00:00, 49.03it/s]\u001b[A\n",
      "Validation DataLoader 0:  58%|█████████████████████████████████▏                       | 46/79 [00:00<00:00, 49.31it/s]\u001b[A\n",
      "Validation DataLoader 0:  59%|█████████████████████████████████▉                       | 47/79 [00:00<00:00, 49.46it/s]\u001b[A\n",
      "Validation DataLoader 0:  61%|██████████████████████████████████▋                      | 48/79 [00:00<00:00, 49.57it/s]\u001b[A\n",
      "Validation DataLoader 0:  62%|███████████████████████████████████▎                     | 49/79 [00:01<00:00, 48.43it/s]\u001b[A\n",
      "Validation DataLoader 0:  63%|████████████████████████████████████                     | 50/79 [00:01<00:00, 48.84it/s]\u001b[A\n",
      "Validation DataLoader 0:  65%|████████████████████████████████████▊                    | 51/79 [00:01<00:00, 49.22it/s]\u001b[A\n",
      "Validation DataLoader 0:  66%|█████████████████████████████████████▌                   | 52/79 [00:01<00:00, 49.47it/s]\u001b[A\n",
      "Validation DataLoader 0:  67%|██████████████████████████████████████▏                  | 53/79 [00:01<00:00, 50.04it/s]\u001b[A\n",
      "Validation DataLoader 0:  68%|██████████████████████████████████████▉                  | 54/79 [00:01<00:00, 50.37it/s]\u001b[A\n",
      "Validation DataLoader 0:  70%|███████████████████████████████████████▋                 | 55/79 [00:01<00:00, 50.62it/s]\u001b[A\n",
      "Validation DataLoader 0:  71%|████████████████████████████████████████▍                | 56/79 [00:01<00:00, 50.52it/s]\u001b[A\n",
      "Validation DataLoader 0:  72%|█████████████████████████████████████████▏               | 57/79 [00:01<00:00, 50.58it/s]\u001b[A\n",
      "Validation DataLoader 0:  73%|█████████████████████████████████████████▊               | 58/79 [00:01<00:00, 50.99it/s]\u001b[A\n",
      "Validation DataLoader 0:  75%|██████████████████████████████████████████▌              | 59/79 [00:01<00:00, 51.15it/s]\u001b[A\n",
      "Validation DataLoader 0:  76%|███████████████████████████████████████████▎             | 60/79 [00:01<00:00, 50.51it/s]\u001b[A\n",
      "Validation DataLoader 0:  77%|████████████████████████████████████████████             | 61/79 [00:01<00:00, 50.59it/s]\u001b[A\n",
      "Validation DataLoader 0:  78%|████████████████████████████████████████████▋            | 62/79 [00:01<00:00, 50.83it/s]\u001b[A\n",
      "Validation DataLoader 0:  80%|█████████████████████████████████████████████▍           | 63/79 [00:01<00:00, 51.10it/s]\u001b[A\n",
      "Validation DataLoader 0:  81%|██████████████████████████████████████████████▏          | 64/79 [00:01<00:00, 50.62it/s]\u001b[A\n",
      "Validation DataLoader 0:  82%|██████████████████████████████████████████████▉          | 65/79 [00:01<00:00, 50.91it/s]\u001b[A\n",
      "Validation DataLoader 0:  84%|███████████████████████████████████████████████▌         | 66/79 [00:01<00:00, 51.16it/s]\u001b[A\n",
      "Validation DataLoader 0:  85%|████████████████████████████████████████████████▎        | 67/79 [00:01<00:00, 51.33it/s]\u001b[A\n",
      "Validation DataLoader 0:  86%|█████████████████████████████████████████████████        | 68/79 [00:01<00:00, 51.05it/s]\u001b[A\n",
      "Validation DataLoader 0:  87%|█████████████████████████████████████████████████▊       | 69/79 [00:01<00:00, 51.35it/s]\u001b[A\n",
      "Validation DataLoader 0:  89%|██████████████████████████████████████████████████▌      | 70/79 [00:01<00:00, 51.62it/s]\u001b[A\n",
      "Validation DataLoader 0:  90%|███████████████████████████████████████████████████▏     | 71/79 [00:01<00:00, 51.04it/s]\u001b[A\n",
      "Validation DataLoader 0:  91%|███████████████████████████████████████████████████▉     | 72/79 [00:01<00:00, 51.19it/s]\u001b[A\n",
      "Validation DataLoader 0:  92%|████████████████████████████████████████████████████▋    | 73/79 [00:01<00:00, 51.50it/s]\u001b[A\n",
      "Validation DataLoader 0:  94%|█████████████████████████████████████████████████████▍   | 74/79 [00:01<00:00, 51.52it/s]\u001b[A\n",
      "Validation DataLoader 0:  95%|██████████████████████████████████████████████████████   | 75/79 [00:01<00:00, 51.46it/s]\u001b[A\n",
      "Validation DataLoader 0:  96%|██████████████████████████████████████████████████████▊  | 76/79 [00:01<00:00, 51.74it/s]\u001b[A\n",
      "Validation DataLoader 0:  97%|███████████████████████████████████████████████████████▌ | 77/79 [00:01<00:00, 52.15it/s]\u001b[A\n",
      "Validation DataLoader 0:  99%|████████████████████████████████████████████████████████▎| 78/79 [00:01<00:00, 51.61it/s]\u001b[A\n",
      "Epoch 4: 100%|██████████████████████████████████████████| 390/390 [01:07<00:00,  5.79it/s, v_num=5, kNN_accuracy=34.20]\u001b[A\n",
      "Epoch 5:  11%|████▊                                      | 44/390 [00:11<01:33,  3.70it/s, v_num=5, kNN_accuracy=34.20]\u001b[A"
     ]
    }
   ],
   "source": [
    "\n",
    "for baseline in [2]:\n",
    "    # MAKE YOUR OWN CONFIG\n",
    "    config=global_config.copy()\n",
    "    # Fill the config\n",
    "    SSL_augmentation=global_SSL_augmentation\n",
    "    config[\"name\"]=f\"fastsim_BT_b128_m50_v{str(baseline)}\"\n",
    "    config[\"view\"]=2\n",
    "    config[\"view_model\"]= \"None\" \n",
    "    # THIS IS THE CODE TO LOAD DATASET\n",
    "    pdata= PipeDataset(config=config,augmentation=trans2multi(SSL_augmentation,view=config[\"view\"]))\n",
    "    \n",
    "    # THIS IS THE CODE TO LOAD MODEL\n",
    "    #pmodel=pipe_model(config=config) \n",
    "    pmodel=pipe_model(config=config,MonitoringbyKNN=p_knndata) # All save the validation\n",
    "    \n",
    " \n",
    "    # Use this if you want to START a train\n",
    "    trainer=Trainer(config, model_mode=\"start\",check_val_every_n_epoch =5) #precision='16-mixed',\n",
    "    trainer.fit(pmodel, pdata.dataloader,)  \n",
    "    \n",
    "    # Use this if you want to CONTINUE a train\n",
    "    #trainer=Trainer(config, model_mode=\"continue\", extra_epoch=1,precision='16-mixed')\n",
    "    #trainer.fit(pmodel, pdata.dataloader,ckpt_path=\"latest\")  \n",
    "    print(pmodel.debug)\n",
    "    del pdata\n",
    "    del pmodel\n",
    "    del trainer    "
   ]
  },
  {
   "cell_type": "markdown",
   "id": "5d4e6970-4604-485e-bd37-60383de96b81",
   "metadata": {
    "tags": []
   },
   "source": [
    "## Config1: Baseline of Cifar with Batch 512"
   ]
  },
  {
   "cell_type": "code",
   "execution_count": null,
   "id": "eb1352c0-9e27-470a-919d-af85ba9365b5",
   "metadata": {},
   "outputs": [],
   "source": [
    "\n",
    "for baseline in [4,12]:\n",
    "    # MAKE YOUR OWN CONFIG\n",
    "    config=global_config.copy()\n",
    "    # Fill the config\n",
    "    SSL_augmentation=global_SSL_augmentation\n",
    "    config[\"name\"]=f\"fastsim_BT_Baseline_b128_m50_v{str(baseline)}\"\n",
    "\n",
    "    config[\"view\"]=baseline\n",
    "    config[\"view_model\"]= \"fastsim\" \n",
    "    # THIS IS THE CODE TO LOAD DATASET\n",
    "    pdata= PipeDataset(config=config,augmentation=dict2transformer(SSL_augmentation,view=config[\"view\"]))\n",
    "    \n",
    "    # THIS IS THE CODE TO LOAD MODEL\n",
    "    #pmodel=pipe_model(config=config) \n",
    "    pmodel=pipe_model(config=config,MonitoringbyKNN=p_knndata) # All save the validation\n",
    "    \n",
    " \n",
    "    # Use this if you want to START a train\n",
    "    trainer=Trainer(config, model_mode=\"start\",check_val_every_n_epoch =5) #precision='16-mixed',\n",
    "    trainer.fit(pmodel, pdata.dataloader,)  \n",
    "    \n",
    "    # Use this if you want to CONTINUE a train\n",
    "    #trainer=Trainer(config, model_mode=\"continue\", extra_epoch=1,precision='16-mixed')\n",
    "    #trainer.fit(pmodel, pdata.dataloader,ckpt_path=\"latest\")  \n",
    "    print(pmodel.debug)\n",
    "    del pdata\n",
    "    del pmodel\n",
    "    del trainer    "
   ]
  },
  {
   "cell_type": "markdown",
   "id": "8a70d5bb-279d-47b1-8850-dd2288e5e568",
   "metadata": {
    "tags": []
   },
   "source": [
    "## Config2: Use SGD + Cos"
   ]
  },
  {
   "cell_type": "code",
   "execution_count": null,
   "id": "ebb66c1a-89fa-4ce2-9f35-92ba04726170",
   "metadata": {
    "tags": []
   },
   "outputs": [],
   "source": [
    "\n",
    "for baseline in [4,12]:\n",
    "    # MAKE YOUR OWN CONFIG\n",
    "    config=global_config.copy()\n",
    "    # Fill the config\n",
    "    SSL_augmentation=global_SSL_augmentation.copy()\n",
    "    config[\"name\"]=f\"pair-pair_BT_Baseline_b128_m50_v{str(baseline)}\"\n",
    "\n",
    "    config[\"view\"]=baseline\n",
    "    config[\"view_model\"]= \"pair-pair\" \n",
    "    # THIS IS THE CODE TO LOAD DATASET\n",
    "    pdata= PipeDataset(config=config,augmentation=dict2transformer(SSL_augmentation,view=config[\"view\"]))\n",
    "    \n",
    "    # THIS IS THE CODE TO LOAD MODEL\n",
    "    #pmodel=pipe_model(config=config) \n",
    "    pmodel=pipe_model(config=config,MonitoringbyKNN=p_knndata) # All save the validation\n",
    "    \n",
    " \n",
    "    # Use this if you want to START a train\n",
    "    trainer=Trainer(config, model_mode=\"start\",check_val_every_n_epoch =5) #precision='16-mixed',\n",
    "    trainer.fit(pmodel, pdata.dataloader,)  \n",
    "    \n",
    "    # Use this if you want to CONTINUE a train\n",
    "    #trainer=Trainer(config, model_mode=\"continue\", extra_epoch=1,precision='16-mixed')\n",
    "    #trainer.fit(pmodel, pdata.dataloader,ckpt_path=\"latest\")  \n",
    "    print(pmodel.debug)\n",
    "    del pdata\n",
    "    del pmodel\n",
    "    del trainer    "
   ]
  },
  {
   "cell_type": "markdown",
   "id": "b5d877c7-b5f9-4dd9-ae01-04f29327fe52",
   "metadata": {
    "tags": []
   },
   "source": [
    "## Check Perfect"
   ]
  },
  {
   "cell_type": "code",
   "execution_count": null,
   "id": "428c066a-22d5-459d-9e6a-5262202bc83d",
   "metadata": {},
   "outputs": [],
   "source": [
    "\n",
    "for baseline in [4,12]:\n",
    "    # MAKE YOUR OWN CONFIG\n",
    "    config=global_config.copy()\n",
    "    # Fill the config\n",
    "    SSL_augmentation=global_SSL_augmentation\n",
    "    config[\"name\"]=f\"1_n_BT_Baseline_b128_m50_v{str(baseline)}\"\n",
    "\n",
    "    config[\"view\"]=baseline\n",
    "    config[\"view_model\"]= \"1_n\"   # 1_n # mean_n #1_fastsim\n",
    "    # THIS IS THE CODE TO LOAD DATASET\n",
    "    pdata= PipeDataset(config=config,augmentation=dict2transformer(SSL_augmentation,view=config[\"view\"]))\n",
    "    \n",
    "    # THIS IS THE CODE TO LOAD MODEL\n",
    "    #pmodel=pipe_model(config=config) \n",
    "    pmodel=pipe_model(config=config,MonitoringbyKNN=p_knndata) # All save the validation\n",
    "    \n",
    " \n",
    "    # Use this if you want to START a train\n",
    "    trainer=Trainer(config, model_mode=\"start\",check_val_every_n_epoch =5) #precision='16-mixed',\n",
    "    trainer.fit(pmodel, pdata.dataloader,)  \n",
    "    \n",
    "    # Use this if you want to CONTINUE a train\n",
    "    #trainer=Trainer(config, model_mode=\"continue\", extra_epoch=1,precision='16-mixed')\n",
    "    #trainer.fit(pmodel, pdata.dataloader,ckpt_path=\"latest\")  \n",
    "    print(pmodel.debug)\n",
    "    del pdata\n",
    "    del pmodel\n",
    "    del trainer    \n"
   ]
  },
  {
   "cell_type": "code",
   "execution_count": null,
   "id": "67682be1-2079-464a-97e5-26c474f5bdfb",
   "metadata": {},
   "outputs": [],
   "source": [
    " "
   ]
  },
  {
   "cell_type": "markdown",
   "id": "f24c6a03-29f7-449a-af3a-05075be370e0",
   "metadata": {
    "tags": []
   },
   "source": [
    "## Improved Trainer"
   ]
  },
  {
   "cell_type": "code",
   "execution_count": null,
   "id": "6c4d224f-296a-4bbf-9fbd-d89c516521b3",
   "metadata": {},
   "outputs": [],
   "source": [
    "\n",
    "for baseline in [4,12]:\n",
    "    # MAKE YOUR OWN CONFIG\n",
    "    config=global_config.copy()\n",
    "    # Fill the config\n",
    "    SSL_augmentation=global_SSL_augmentation\n",
    "    config[\"name\"]=f\"mean_n_BT_Baseline_b128_m50_v{str(baseline)}\"\n",
    "\n",
    "    config[\"view\"]=baseline\n",
    "    config[\"view_model\"]= \"mean_n\"   # 1_n # mean_n #1_fastsim\n",
    "    # THIS IS THE CODE TO LOAD DATASET\n",
    "    pdata= PipeDataset(config=config,augmentation=dict2transformer(SSL_augmentation,view=config[\"view\"]))\n",
    "    \n",
    "    # THIS IS THE CODE TO LOAD MODEL\n",
    "    #pmodel=pipe_model(config=config) \n",
    "    pmodel=pipe_model(config=config,MonitoringbyKNN=p_knndata) # All save the validation\n",
    "    \n",
    " \n",
    "    # Use this if you want to START a train\n",
    "    trainer=Trainer(config, model_mode=\"start\",check_val_every_n_epoch =5) #precision='16-mixed',\n",
    "    trainer.fit(pmodel, pdata.dataloader,)  \n",
    "    \n",
    "    # Use this if you want to CONTINUE a train\n",
    "    #trainer=Trainer(config, model_mode=\"continue\", extra_epoch=1,precision='16-mixed')\n",
    "    #trainer.fit(pmodel, pdata.dataloader,ckpt_path=\"latest\")  \n",
    "    print(pmodel.debug)\n",
    "    del pdata\n",
    "    del pmodel\n",
    "    del trainer    \n"
   ]
  },
  {
   "cell_type": "markdown",
   "id": "9c000950-f854-4901-b001-79a712b2fcc2",
   "metadata": {},
   "source": [
    "## Config 5"
   ]
  },
  {
   "cell_type": "code",
   "execution_count": null,
   "id": "44e13b52-9b87-4072-9103-b8fd93f3de24",
   "metadata": {},
   "outputs": [],
   "source": [
    " \n",
    "for baseline in [4,12]:\n",
    "    # MAKE YOUR OWN CONFIG\n",
    "    config=global_config.copy()\n",
    "    # Fill the config\n",
    "    SSL_augmentation=global_SSL_augmentation\n",
    "    config[\"name\"]=f\"1_fastsim_BT_Baseline_b128_m50_v{str(baseline)}\"\n",
    "\n",
    "    config[\"view\"]=baseline\n",
    "    config[\"view_model\"]= \"1_fastsim\"   # 1_n # mean_n #\n",
    "    # THIS IS THE CODE TO LOAD DATASET\n",
    "    pdata= PipeDataset(config=config,augmentation=dict2transformer(SSL_augmentation,view=config[\"view\"]))\n",
    "    \n",
    "    # THIS IS THE CODE TO LOAD MODEL\n",
    "    #pmodel=pipe_model(config=config) \n",
    "    pmodel=pipe_model(config=config,MonitoringbyKNN=p_knndata) # All save the validation\n",
    "    \n",
    " \n",
    "    # Use this if you want to START a train\n",
    "    trainer=Trainer(config, model_mode=\"start\",check_val_every_n_epoch =5) #precision='16-mixed',\n",
    "    trainer.fit(pmodel, pdata.dataloader,)  \n",
    "    \n",
    "    # Use this if you want to CONTINUE a train\n",
    "    #trainer=Trainer(config, model_mode=\"continue\", extra_epoch=1,precision='16-mixed')\n",
    "    #trainer.fit(pmodel, pdata.dataloader,ckpt_path=\"latest\")  \n",
    "    print(pmodel.debug)\n",
    "    del pdata\n",
    "    del pmodel\n",
    "    del trainer    \n"
   ]
  },
  {
   "cell_type": "markdown",
   "id": "50686839-6777-4c26-b7f6-02b871ac184a",
   "metadata": {
    "tags": []
   },
   "source": [
    "# Evaluation"
   ]
  },
  {
   "cell_type": "code",
   "execution_count": null,
   "id": "c8ad6455-b8c3-4d5d-b6eb-5627bd52fbee",
   "metadata": {},
   "outputs": [],
   "source": [
    "\n",
    "test_augmentation = {\n",
    "    'RandomResizedCrop': {'size': (global_config[\"input_size\"], global_config[\"input_size\"])},\n",
    "    'ToTensor': {},\n",
    "    'Normalize': {\"mean\": [0.485, 0.456, 0.406], \"std\": [0.229, 0.224, 0.225]}\n",
    "}\n",
    "collate =pipe_collate(address=\"experiment_checkpoints/paper_barlowtwins/\", reg=\"BT_Baseline_512_[0-9]+\")\n",
    "\n",
    "pdata = PipeDataset(input_dir=global_config[\"path_to_test_cifar10\"],\n",
    "    augmentation=dict2transformer(test_augmentation,view=1))\n"
   ]
  },
  {
   "cell_type": "code",
   "execution_count": null,
   "id": "ca362de1-b68b-45c8-94f6-853afff878aa",
   "metadata": {},
   "outputs": [],
   "source": [
    "aaa=eval_linear(pdata, models=collate, device=global_config[\"device\"])\n"
   ]
  },
  {
   "cell_type": "code",
   "execution_count": null,
   "id": "ff8f9096-89ab-4926-8c60-cca73920c337",
   "metadata": {},
   "outputs": [],
   "source": [
    "aaa"
   ]
  },
  {
   "cell_type": "code",
   "execution_count": null,
   "id": "3ed89fa6-f9b9-4af6-8531-da9c2729d020",
   "metadata": {},
   "outputs": [],
   "source": [
    " "
   ]
  },
  {
   "cell_type": "code",
   "execution_count": null,
   "id": "7d5a19fd-fa88-4c31-a829-e689313f04d5",
   "metadata": {},
   "outputs": [],
   "source": []
  }
 ],
 "metadata": {
  "kernelspec": {
   "display_name": "Python 3 (ipykernel)",
   "language": "python",
   "name": "python3"
  },
  "language_info": {
   "codemirror_mode": {
    "name": "ipython",
    "version": 3
   },
   "file_extension": ".py",
   "mimetype": "text/x-python",
   "name": "python",
   "nbconvert_exporter": "python",
   "pygments_lexer": "ipython3",
   "version": "3.9.16"
  }
 },
 "nbformat": 4,
 "nbformat_minor": 5
}
